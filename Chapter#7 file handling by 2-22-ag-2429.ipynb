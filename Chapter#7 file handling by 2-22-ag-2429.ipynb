{
 "cells": [
  {
   "cell_type": "code",
   "execution_count": 1,
   "id": "c4b9b837",
   "metadata": {},
   "outputs": [
    {
     "data": {
      "text/plain": [
       "'Hello\\nWorld!'"
      ]
     },
     "execution_count": 1,
     "metadata": {},
     "output_type": "execute_result"
    }
   ],
   "source": [
    "stuff = 'Hello\\nWorld!'\n",
    "stuff"
   ]
  },
  {
   "cell_type": "code",
   "execution_count": 2,
   "id": "bda0d256",
   "metadata": {},
   "outputs": [
    {
     "name": "stdout",
     "output_type": "stream",
     "text": [
      "Hello\n",
      "World!\n"
     ]
    }
   ],
   "source": [
    "print(stuff)"
   ]
  },
  {
   "cell_type": "code",
   "execution_count": 3,
   "id": "1d18d334",
   "metadata": {},
   "outputs": [
    {
     "name": "stdout",
     "output_type": "stream",
     "text": [
      "X\n",
      "Y\n"
     ]
    }
   ],
   "source": [
    "stuff = 'X\\nY'\n",
    "print(stuff)"
   ]
  },
  {
   "cell_type": "code",
   "execution_count": 10,
   "id": "3dadd780",
   "metadata": {},
   "outputs": [
    {
     "name": "stdout",
     "output_type": "stream",
     "text": [
      "Enter the file name: mbox.txt\n",
      "File cannot be opened: mbox.txt\n"
     ]
    },
    {
     "ename": "NameError",
     "evalue": "name 'fhand' is not defined",
     "output_type": "error",
     "traceback": [
      "\u001b[1;31m---------------------------------------------------------------------------\u001b[0m",
      "\u001b[1;31mNameError\u001b[0m                                 Traceback (most recent call last)",
      "Cell \u001b[1;32mIn[10], line 8\u001b[0m\n\u001b[0;32m      6\u001b[0m      quit()\n\u001b[0;32m      7\u001b[0m count \u001b[38;5;241m=\u001b[39m \u001b[38;5;241m0\u001b[39m\n\u001b[1;32m----> 8\u001b[0m \u001b[38;5;28;01mfor\u001b[39;00m line \u001b[38;5;129;01min\u001b[39;00m fhand:\n\u001b[0;32m      9\u001b[0m      \u001b[38;5;28;01mif\u001b[39;00m line\u001b[38;5;241m.\u001b[39mstartswith(\u001b[38;5;124m'\u001b[39m\u001b[38;5;124mSubject:\u001b[39m\u001b[38;5;124m'\u001b[39m) :\n\u001b[0;32m     10\u001b[0m          count \u001b[38;5;241m=\u001b[39m count \u001b[38;5;241m+\u001b[39m \u001b[38;5;241m1\u001b[39m\n",
      "\u001b[1;31mNameError\u001b[0m: name 'fhand' is not defined"
     ]
    }
   ],
   "source": [
    "fname = input('Enter the file name: ')\n",
    "try:\n",
    "     fhand = open(fname)\n",
    "except:\n",
    "     print('File cannot be opened:', fname)\n",
    "     quit()\n",
    "count = 0\n",
    "for line in fhand:\n",
    "     if line.startswith('Subject:') :\n",
    "         count = count + 1\n",
    "print('There were', count, 'subject lines in', fname)"
   ]
  },
  {
   "cell_type": "code",
   "execution_count": null,
   "id": "9b382a2e",
   "metadata": {},
   "outputs": [],
   "source": []
  }
 ],
 "metadata": {
  "kernelspec": {
   "display_name": "Python 3 (ipykernel)",
   "language": "python",
   "name": "python3"
  },
  "language_info": {
   "codemirror_mode": {
    "name": "ipython",
    "version": 3
   },
   "file_extension": ".py",
   "mimetype": "text/x-python",
   "name": "python",
   "nbconvert_exporter": "python",
   "pygments_lexer": "ipython3",
   "version": "3.11.4"
  }
 },
 "nbformat": 4,
 "nbformat_minor": 5
}
